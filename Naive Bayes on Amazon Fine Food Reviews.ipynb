{
 "cells": [
  {
   "cell_type": "code",
   "execution_count": 19,
   "metadata": {},
   "outputs": [],
   "source": [
    "import pandas as pd\n",
    "import numpy as np\n",
    "import sqlite3\n",
    "import nltk\n",
    "import string\n",
    "import matplotlib.pyplot as plt\n",
    "import seaborn as sns\n",
    "from sklearn.feature_extraction.text import CountVectorizer\n",
    "from sklearn.feature_extraction.text import TfidfVectorizer\n",
    "from sklearn.naive_bayes import MultinomialNB\n",
    "from sklearn.metrics import accuracy_score\n",
    "from sklearn.model_selection import train_test_split , cross_val_score"
   ]
  },
  {
   "cell_type": "code",
   "execution_count": 2,
   "metadata": {},
   "outputs": [
    {
     "name": "stdout",
     "output_type": "stream",
     "text": [
      "   Id   ProductId          UserId                      ProfileName  \\\n",
      "0   1  B001E4KFG0  A3SGXH7AUHU8GW                       delmartian   \n",
      "1   2  B00813GRG4  A1D87F6ZCVE5NK                           dll pa   \n",
      "2   3  B000LQOCH0   ABXLMWJIXXAIN  Natalia Corres \"Natalia Corres\"   \n",
      "3   4  B000UA0QIQ  A395BORC6FGVXV                             Karl   \n",
      "4   5  B006K2ZZ7K  A1UQRSCLF8GW1T    Michael D. Bigham \"M. Wassir\"   \n",
      "\n",
      "   HelpfulnessNumerator  HelpfulnessDenominator  Score        Time  \\\n",
      "0                     1                       1      5  1303862400   \n",
      "1                     0                       0      1  1346976000   \n",
      "2                     1                       1      4  1219017600   \n",
      "3                     3                       3      2  1307923200   \n",
      "4                     0                       0      5  1350777600   \n",
      "\n",
      "                 Summary                                               Text  \n",
      "0  Good Quality Dog Food  I have bought several of the Vitality canned d...  \n",
      "1      Not as Advertised  Product arrived labeled as Jumbo Salted Peanut...  \n",
      "2  \"Delight\" says it all  This is a confection that has been around a fe...  \n",
      "3         Cough Medicine  If you are looking for the secret ingredient i...  \n",
      "4            Great taffy  Great taffy at a great price.  There was a wid...  \n"
     ]
    }
   ],
   "source": [
    "con = sqlite3.connect(\"D:/[FCO] AppliedAICourse - Applied Machine Learning Course/1.0 CSV files/Amazon fine food reviews/database.sqlite\")\n",
    "\n",
    "#Score = 1 or 2 means review would be negative and Score = 3 or 5 means review would be positive. Hence, Score = 3 is neglected. \n",
    "data = pd.read_sql_query(\"\"\"\n",
    "       SELECT * from Reviews\n",
    "       where Score != 3\"\"\" , con)\n",
    "\n",
    "print(data.head())"
   ]
  },
  {
   "cell_type": "code",
   "execution_count": 3,
   "metadata": {},
   "outputs": [],
   "source": [
    "def partition(x):\n",
    "    if x > 3:\n",
    "        return 'positive'\n",
    "    else:\n",
    "        return 'negative'\n",
    "\n",
    "actualScore = data['Score']\n",
    "positiveNegative = actualScore.map(partition)\n",
    "data['Score'] = positiveNegative"
   ]
  },
  {
   "cell_type": "code",
   "execution_count": 5,
   "metadata": {},
   "outputs": [
    {
     "data": {
      "text/html": [
       "<div>\n",
       "<style scoped>\n",
       "    .dataframe tbody tr th:only-of-type {\n",
       "        vertical-align: middle;\n",
       "    }\n",
       "\n",
       "    .dataframe tbody tr th {\n",
       "        vertical-align: top;\n",
       "    }\n",
       "\n",
       "    .dataframe thead th {\n",
       "        text-align: right;\n",
       "    }\n",
       "</style>\n",
       "<table border=\"1\" class=\"dataframe\">\n",
       "  <thead>\n",
       "    <tr style=\"text-align: right;\">\n",
       "      <th></th>\n",
       "      <th>Id</th>\n",
       "      <th>ProductId</th>\n",
       "      <th>UserId</th>\n",
       "      <th>ProfileName</th>\n",
       "      <th>HelpfulnessNumerator</th>\n",
       "      <th>HelpfulnessDenominator</th>\n",
       "      <th>Score</th>\n",
       "      <th>Time</th>\n",
       "      <th>Summary</th>\n",
       "      <th>Text</th>\n",
       "    </tr>\n",
       "  </thead>\n",
       "  <tbody>\n",
       "    <tr>\n",
       "      <td>0</td>\n",
       "      <td>78445</td>\n",
       "      <td>B000HDL1RQ</td>\n",
       "      <td>AR5J8UI46CURR</td>\n",
       "      <td>Geetha Krishnan</td>\n",
       "      <td>2</td>\n",
       "      <td>2</td>\n",
       "      <td>5</td>\n",
       "      <td>1199577600</td>\n",
       "      <td>LOACKER QUADRATINI VANILLA WAFERS</td>\n",
       "      <td>DELICIOUS WAFERS. I FIND THAT EUROPEAN WAFERS ...</td>\n",
       "    </tr>\n",
       "    <tr>\n",
       "      <td>1</td>\n",
       "      <td>138317</td>\n",
       "      <td>B000HDOPYC</td>\n",
       "      <td>AR5J8UI46CURR</td>\n",
       "      <td>Geetha Krishnan</td>\n",
       "      <td>2</td>\n",
       "      <td>2</td>\n",
       "      <td>5</td>\n",
       "      <td>1199577600</td>\n",
       "      <td>LOACKER QUADRATINI VANILLA WAFERS</td>\n",
       "      <td>DELICIOUS WAFERS. I FIND THAT EUROPEAN WAFERS ...</td>\n",
       "    </tr>\n",
       "    <tr>\n",
       "      <td>2</td>\n",
       "      <td>138277</td>\n",
       "      <td>B000HDOPYM</td>\n",
       "      <td>AR5J8UI46CURR</td>\n",
       "      <td>Geetha Krishnan</td>\n",
       "      <td>2</td>\n",
       "      <td>2</td>\n",
       "      <td>5</td>\n",
       "      <td>1199577600</td>\n",
       "      <td>LOACKER QUADRATINI VANILLA WAFERS</td>\n",
       "      <td>DELICIOUS WAFERS. I FIND THAT EUROPEAN WAFERS ...</td>\n",
       "    </tr>\n",
       "    <tr>\n",
       "      <td>3</td>\n",
       "      <td>73791</td>\n",
       "      <td>B000HDOPZG</td>\n",
       "      <td>AR5J8UI46CURR</td>\n",
       "      <td>Geetha Krishnan</td>\n",
       "      <td>2</td>\n",
       "      <td>2</td>\n",
       "      <td>5</td>\n",
       "      <td>1199577600</td>\n",
       "      <td>LOACKER QUADRATINI VANILLA WAFERS</td>\n",
       "      <td>DELICIOUS WAFERS. I FIND THAT EUROPEAN WAFERS ...</td>\n",
       "    </tr>\n",
       "    <tr>\n",
       "      <td>4</td>\n",
       "      <td>155049</td>\n",
       "      <td>B000PAQ75C</td>\n",
       "      <td>AR5J8UI46CURR</td>\n",
       "      <td>Geetha Krishnan</td>\n",
       "      <td>2</td>\n",
       "      <td>2</td>\n",
       "      <td>5</td>\n",
       "      <td>1199577600</td>\n",
       "      <td>LOACKER QUADRATINI VANILLA WAFERS</td>\n",
       "      <td>DELICIOUS WAFERS. I FIND THAT EUROPEAN WAFERS ...</td>\n",
       "    </tr>\n",
       "  </tbody>\n",
       "</table>\n",
       "</div>"
      ],
      "text/plain": [
       "       Id   ProductId         UserId      ProfileName  HelpfulnessNumerator  \\\n",
       "0   78445  B000HDL1RQ  AR5J8UI46CURR  Geetha Krishnan                     2   \n",
       "1  138317  B000HDOPYC  AR5J8UI46CURR  Geetha Krishnan                     2   \n",
       "2  138277  B000HDOPYM  AR5J8UI46CURR  Geetha Krishnan                     2   \n",
       "3   73791  B000HDOPZG  AR5J8UI46CURR  Geetha Krishnan                     2   \n",
       "4  155049  B000PAQ75C  AR5J8UI46CURR  Geetha Krishnan                     2   \n",
       "\n",
       "   HelpfulnessDenominator  Score        Time  \\\n",
       "0                       2      5  1199577600   \n",
       "1                       2      5  1199577600   \n",
       "2                       2      5  1199577600   \n",
       "3                       2      5  1199577600   \n",
       "4                       2      5  1199577600   \n",
       "\n",
       "                             Summary  \\\n",
       "0  LOACKER QUADRATINI VANILLA WAFERS   \n",
       "1  LOACKER QUADRATINI VANILLA WAFERS   \n",
       "2  LOACKER QUADRATINI VANILLA WAFERS   \n",
       "3  LOACKER QUADRATINI VANILLA WAFERS   \n",
       "4  LOACKER QUADRATINI VANILLA WAFERS   \n",
       "\n",
       "                                                Text  \n",
       "0  DELICIOUS WAFERS. I FIND THAT EUROPEAN WAFERS ...  \n",
       "1  DELICIOUS WAFERS. I FIND THAT EUROPEAN WAFERS ...  \n",
       "2  DELICIOUS WAFERS. I FIND THAT EUROPEAN WAFERS ...  \n",
       "3  DELICIOUS WAFERS. I FIND THAT EUROPEAN WAFERS ...  \n",
       "4  DELICIOUS WAFERS. I FIND THAT EUROPEAN WAFERS ...  "
      ]
     },
     "execution_count": 5,
     "metadata": {},
     "output_type": "execute_result"
    }
   ],
   "source": [
    "display = pd.read_sql_query(\"\"\"\n",
    "        SELECT * FROM Reviews \n",
    "        WHERE Score != 3 AND UserId = 'AR5J8UI46CURR'\n",
    "        ORDER BY ProductId\n",
    "        \"\"\" , con)\n",
    "display"
   ]
  },
  {
   "cell_type": "code",
   "execution_count": 6,
   "metadata": {},
   "outputs": [
    {
     "data": {
      "text/plain": [
       "(364173, 10)"
      ]
     },
     "execution_count": 6,
     "metadata": {},
     "output_type": "execute_result"
    }
   ],
   "source": [
    "#Sorting data according to ProductId in ascending order\n",
    "sorted_data = data.sort_values('ProductId' , axis = 0 , inplace = False , ascending = True)\n",
    "final = sorted_data.drop_duplicates(subset = {'UserId' , 'ProfileName' , 'Time' , 'Text'} , keep = 'first' , inplace = False)\n",
    "final.shape"
   ]
  },
  {
   "cell_type": "code",
   "execution_count": 7,
   "metadata": {},
   "outputs": [
    {
     "data": {
      "text/plain": [
       "(364171, 10)"
      ]
     },
     "execution_count": 7,
     "metadata": {},
     "output_type": "execute_result"
    }
   ],
   "source": [
    "#Keeping only those data points where HelpfulnessNumerator is greater than or equal to HelpfulnessDenominator\n",
    "#as HelpfulnessNumerator cannot be greater than HelpfulnessDenominator\n",
    "final = final[final.HelpfulnessNumerator <= final.HelpfulnessDenominator]\n",
    "final.shape"
   ]
  },
  {
   "cell_type": "code",
   "execution_count": 8,
   "metadata": {},
   "outputs": [],
   "source": [
    "import re\n",
    "from nltk.corpus import stopwords\n",
    "from nltk.stem import PorterStemmer\n",
    "from nltk.stem.wordnet import WordNetLemmatizer"
   ]
  },
  {
   "cell_type": "code",
   "execution_count": 9,
   "metadata": {},
   "outputs": [],
   "source": [
    "def cleanhtml(sentence):\n",
    "    cleanr = re.compile('<.*?>')\n",
    "    cleantext = re.sub(cleanr , '' , sentence)\n",
    "    return cleantext\n",
    "\n",
    "def clearpunc(sentence):\n",
    "    cleaned = re.sub(r'[? | ! | \\' | \" | #]' , r'' , sentence)\n",
    "    cleaned = re.sub(r'[. | , | ) | ( | \\ | / | : | ; | < | >]' , r'' , cleaned)\n",
    "    return cleaned"
   ]
  },
  {
   "cell_type": "code",
   "execution_count": 10,
   "metadata": {},
   "outputs": [
    {
     "name": "stdout",
     "output_type": "stream",
     "text": [
      "{'into', 'between', \"weren't\", 'until', \"you've\", 'so', 'further', 'ma', 'such', 'or', 'just', 'where', \"don't\", 'on', 'for', 're', \"should've\", 'an', 'our', 'out', 'that', 'not', 'against', 'myself', 'up', 'been', 'again', \"doesn't\", 'do', \"you'd\", 'me', 'ourselves', 'themselves', 'each', 'some', 'himself', 'than', 'was', 'doesn', 'weren', 'having', 'of', 'those', 'ours', 'why', 'both', \"hasn't\", 'mustn', 'after', \"didn't\", \"shouldn't\", \"haven't\", 'whom', 'your', 'mightn', 'before', \"isn't\", 'but', \"wasn't\", 'd', 'at', 'will', 't', 'needn', 'their', 'about', 'if', 'because', 'i', 'this', 'down', 'how', 'don', 'other', 'll', 'through', 'isn', 'haven', 'and', 's', 'yourselves', 'here', 'while', 'can', 'o', 'no', \"you're\", \"aren't\", 'all', \"couldn't\", 'couldn', 'should', 'y', 'during', 'won', 'doing', 'it', 'shan', \"wouldn't\", 'didn', 'she', 'hers', 'you', 'they', 'these', 'as', 'theirs', 'the', 'to', 'my', 'does', \"needn't\", 'too', 'with', 'very', 'hadn', 'by', 'we', 'm', 'a', 'most', \"she's\", 'over', 'above', 'in', 'which', 'shouldn', 'there', 'did', 'same', 'ain', 'once', 'have', \"won't\", 'nor', 'off', 'its', 'now', 'then', 'what', 'her', 'below', 'hasn', 'has', \"mightn't\", 'him', \"it's\", 'only', 've', 'few', 'yours', 'own', 'is', 'am', 'yourself', 'had', 'wouldn', 'his', 'any', 'who', 'them', 'under', \"mustn't\", 'more', \"hadn't\", 'be', 'wasn', 'herself', 'are', 'were', 'from', 'itself', \"you'll\", 'aren', 'he', 'being', 'when', \"shan't\", \"that'll\"}\n"
     ]
    }
   ],
   "source": [
    "stop = set(stopwords.words('english'))\n",
    "sno = nltk.stem.SnowballStemmer('english')\n",
    "print(stop)"
   ]
  },
  {
   "cell_type": "code",
   "execution_count": 11,
   "metadata": {},
   "outputs": [],
   "source": [
    "#Code for implementing step-by-step the checks mentioned in the pre-processing phase\n",
    "# this code takes a while to run as it needs to run on 364k sentences.\n",
    "i = 0\n",
    "str1 = ' '\n",
    "finalString = []\n",
    "all_positive_words = []\n",
    "all_negative_words = []\n",
    "s = ''\n",
    "\n",
    "for sent in final['Text'].values:\n",
    "    filtered_sentence = []\n",
    "    sent = cleanhtml(sent)\n",
    "    for w in sent.split():\n",
    "        for cleanedwords in clearpunc(w).split():\n",
    "            if((cleanedwords.isalpha()) & (len(cleanedwords) > 2)):\n",
    "                if(cleanedwords.lower() not in stop):\n",
    "                    s = (sno.stem(cleanedwords.lower())).encode('utf8')\n",
    "                    filtered_sentence.append(s)\n",
    "                    \n",
    "                    if (final['Score'].values)[i] == 'positive':\n",
    "                        all_positive_words.append(s)\n",
    "                        \n",
    "                    if (final['Score'].values)[i] == 'negative':\n",
    "                        all_negative_words.append(s)\n",
    "                        \n",
    "                else:\n",
    "                    continue\n",
    "            else:\n",
    "                continue\n",
    "                \n",
    "    str1 = b\" \".join(filtered_sentence)\n",
    "    \n",
    "    finalString.append(str1)\n",
    "    i += 1"
   ]
  },
  {
   "cell_type": "code",
   "execution_count": 12,
   "metadata": {},
   "outputs": [],
   "source": [
    "final['Cleaned Text'] = finalString"
   ]
  },
  {
   "cell_type": "code",
   "execution_count": 13,
   "metadata": {},
   "outputs": [],
   "source": [
    "X1 = final[final['Score'] == 'positive'].sample(n = 50000 , random_state = 0)\n",
    "X2 = final[final['Score'] == 'negative'].sample(n = 50000 , random_state = 0) \n",
    "X = pd.concat([X1 , X2])"
   ]
  },
  {
   "cell_type": "code",
   "execution_count": 16,
   "metadata": {},
   "outputs": [
    {
     "data": {
      "text/plain": [
       "(100000, 11)"
      ]
     },
     "execution_count": 16,
     "metadata": {},
     "output_type": "execute_result"
    }
   ],
   "source": [
    "X.shape"
   ]
  },
  {
   "cell_type": "code",
   "execution_count": 18,
   "metadata": {},
   "outputs": [
    {
     "data": {
      "text/html": [
       "<div>\n",
       "<style scoped>\n",
       "    .dataframe tbody tr th:only-of-type {\n",
       "        vertical-align: middle;\n",
       "    }\n",
       "\n",
       "    .dataframe tbody tr th {\n",
       "        vertical-align: top;\n",
       "    }\n",
       "\n",
       "    .dataframe thead th {\n",
       "        text-align: right;\n",
       "    }\n",
       "</style>\n",
       "<table border=\"1\" class=\"dataframe\">\n",
       "  <thead>\n",
       "    <tr style=\"text-align: right;\">\n",
       "      <th></th>\n",
       "      <th>Id</th>\n",
       "      <th>ProductId</th>\n",
       "      <th>UserId</th>\n",
       "      <th>ProfileName</th>\n",
       "      <th>HelpfulnessNumerator</th>\n",
       "      <th>HelpfulnessDenominator</th>\n",
       "      <th>Score</th>\n",
       "      <th>Time</th>\n",
       "      <th>Summary</th>\n",
       "      <th>Text</th>\n",
       "      <th>Cleaned Text</th>\n",
       "    </tr>\n",
       "  </thead>\n",
       "  <tbody>\n",
       "    <tr>\n",
       "      <td>138683</td>\n",
       "      <td>150501</td>\n",
       "      <td>0006641040</td>\n",
       "      <td>AJ46FKXOVC7NR</td>\n",
       "      <td>Nicholas A Mesiano</td>\n",
       "      <td>2</td>\n",
       "      <td>2</td>\n",
       "      <td>positive</td>\n",
       "      <td>1999-10-25</td>\n",
       "      <td>This whole series is great way to spend time w...</td>\n",
       "      <td>I can remember seeing the show when it aired o...</td>\n",
       "      <td>b'rememb see show air televis year ago child s...</td>\n",
       "    </tr>\n",
       "    <tr>\n",
       "      <td>417839</td>\n",
       "      <td>451856</td>\n",
       "      <td>B00004CXX9</td>\n",
       "      <td>AIUWLEQ1ADEG5</td>\n",
       "      <td>Elizabeth Medina</td>\n",
       "      <td>0</td>\n",
       "      <td>0</td>\n",
       "      <td>positive</td>\n",
       "      <td>1999-12-02</td>\n",
       "      <td>Entertainingl Funny!</td>\n",
       "      <td>Beetlejuice is a well written movie ..... ever...</td>\n",
       "      <td>b'beetlejuic well written movi everyth excel a...</td>\n",
       "    </tr>\n",
       "    <tr>\n",
       "      <td>346041</td>\n",
       "      <td>374343</td>\n",
       "      <td>B00004CI84</td>\n",
       "      <td>A1B2IZU1JLZA6</td>\n",
       "      <td>Wes</td>\n",
       "      <td>19</td>\n",
       "      <td>23</td>\n",
       "      <td>negative</td>\n",
       "      <td>2000-01-19</td>\n",
       "      <td>WARNING: CLAMSHELL EDITION IS EDITED TV VERSION</td>\n",
       "      <td>I, myself always enjoyed this movie, it's very...</td>\n",
       "      <td>b'alway enjoy movi funni entertain didnt hesit...</td>\n",
       "    </tr>\n",
       "    <tr>\n",
       "      <td>346094</td>\n",
       "      <td>374400</td>\n",
       "      <td>B00004CI84</td>\n",
       "      <td>A2DEE7F9XKP3ZR</td>\n",
       "      <td>jerome</td>\n",
       "      <td>0</td>\n",
       "      <td>3</td>\n",
       "      <td>positive</td>\n",
       "      <td>2000-06-03</td>\n",
       "      <td>Research - Beatlejuice video - French version</td>\n",
       "      <td>I'm getting crazy.I'm looking for Beatlejuice ...</td>\n",
       "      <td>b'get crazyim look beatlejuic french version v...</td>\n",
       "    </tr>\n",
       "    <tr>\n",
       "      <td>417901</td>\n",
       "      <td>451923</td>\n",
       "      <td>B00004CXX9</td>\n",
       "      <td>ANIMV3SPDD8SH</td>\n",
       "      <td>Guy De Federicis</td>\n",
       "      <td>1</td>\n",
       "      <td>12</td>\n",
       "      <td>negative</td>\n",
       "      <td>2001-06-11</td>\n",
       "      <td>CASPER IS THE GHOST WITH THE MOST</td>\n",
       "      <td>Michael Keaton brings no distinguishing charac...</td>\n",
       "      <td>b'michael keaton bring distinguish characteris...</td>\n",
       "    </tr>\n",
       "  </tbody>\n",
       "</table>\n",
       "</div>"
      ],
      "text/plain": [
       "            Id   ProductId          UserId         ProfileName  \\\n",
       "138683  150501  0006641040   AJ46FKXOVC7NR  Nicholas A Mesiano   \n",
       "417839  451856  B00004CXX9   AIUWLEQ1ADEG5    Elizabeth Medina   \n",
       "346041  374343  B00004CI84   A1B2IZU1JLZA6                 Wes   \n",
       "346094  374400  B00004CI84  A2DEE7F9XKP3ZR              jerome   \n",
       "417901  451923  B00004CXX9   ANIMV3SPDD8SH    Guy De Federicis   \n",
       "\n",
       "        HelpfulnessNumerator  HelpfulnessDenominator     Score       Time  \\\n",
       "138683                     2                       2  positive 1999-10-25   \n",
       "417839                     0                       0  positive 1999-12-02   \n",
       "346041                    19                      23  negative 2000-01-19   \n",
       "346094                     0                       3  positive 2000-06-03   \n",
       "417901                     1                      12  negative 2001-06-11   \n",
       "\n",
       "                                                  Summary  \\\n",
       "138683  This whole series is great way to spend time w...   \n",
       "417839                               Entertainingl Funny!   \n",
       "346041    WARNING: CLAMSHELL EDITION IS EDITED TV VERSION   \n",
       "346094      Research - Beatlejuice video - French version   \n",
       "417901                  CASPER IS THE GHOST WITH THE MOST   \n",
       "\n",
       "                                                     Text  \\\n",
       "138683  I can remember seeing the show when it aired o...   \n",
       "417839  Beetlejuice is a well written movie ..... ever...   \n",
       "346041  I, myself always enjoyed this movie, it's very...   \n",
       "346094  I'm getting crazy.I'm looking for Beatlejuice ...   \n",
       "417901  Michael Keaton brings no distinguishing charac...   \n",
       "\n",
       "                                             Cleaned Text  \n",
       "138683  b'rememb see show air televis year ago child s...  \n",
       "417839  b'beetlejuic well written movi everyth excel a...  \n",
       "346041  b'alway enjoy movi funni entertain didnt hesit...  \n",
       "346094  b'get crazyim look beatlejuic french version v...  \n",
       "417901  b'michael keaton bring distinguish characteris...  "
      ]
     },
     "execution_count": 18,
     "metadata": {},
     "output_type": "execute_result"
    }
   ],
   "source": [
    "X['Time'] = pd.to_datetime(X['Time'] , unit = 's')\n",
    "X = X.sort_values('Time')\n",
    "X.head()"
   ]
  },
  {
   "cell_type": "code",
   "execution_count": 29,
   "metadata": {},
   "outputs": [],
   "source": [
    "def naive_bayes(X_Train, Y_Train):\n",
    "    \n",
    "    \"\"\"\n",
    "    This function calculates the optimal alpha\n",
    "    \"\"\"\n",
    "    \n",
    "    alpha_values = np.arange(1, 500, 0.5)\n",
    "    \n",
    "    cv_scores = []\n",
    "    \n",
    "    for alpha in alpha_values:\n",
    "        mnb = MultinomialNB(alpha = alpha)\n",
    "        scores = cross_val_score(mnb, X_Train, Y_Train , cv = 10 , scoring = 'accuracy')\n",
    "        cv_scores.append(scores.mean())\n",
    "        \n",
    "    MSE = [1-x for x in cv_scores]\n",
    "    \n",
    "    optimal_alpha = alpha_values[MSE.index(min(MSE))]\n",
    "    \n",
    "    print('The optimal value of alpha is {}'.format(optimal_alpha))\n",
    "    \n",
    "    plt.plot(MSE , alpha_values , marker = '^')\n",
    "    plt.ylabel('alpha')\n",
    "    plt.xlabel('Misclassification Error')\n",
    "    plt.title('MSE vs alpha')\n",
    "    plt.show()\n",
    "    \n",
    "    return optimal_alpha"
   ]
  },
  {
   "cell_type": "code",
   "execution_count": 21,
   "metadata": {},
   "outputs": [
    {
     "name": "stdout",
     "output_type": "stream",
     "text": [
      "(100000,) (100000,)\n"
     ]
    }
   ],
   "source": [
    "x = X['Cleaned Text']\n",
    "y = X['Score']\n",
    "print(x.shape , y.shape)"
   ]
  },
  {
   "cell_type": "code",
   "execution_count": 23,
   "metadata": {},
   "outputs": [
    {
     "name": "stdout",
     "output_type": "stream",
     "text": [
      "(70000,) (30000,) (70000,) (30000,)\n"
     ]
    }
   ],
   "source": [
    "x_train , x_test , y_train, y_test = train_test_split(x , y, test_size = 0.3 , random_state = 40)\n",
    "print(x_train.shape , x_test.shape , y_train.shape , y_test.shape)"
   ]
  },
  {
   "cell_type": "code",
   "execution_count": 25,
   "metadata": {},
   "outputs": [
    {
     "name": "stdout",
     "output_type": "stream",
     "text": [
      "(70000, 70909) (30000, 70909)\n"
     ]
    }
   ],
   "source": [
    "bow_nb = CountVectorizer()\n",
    "x_train = bow_nb.fit_transform(x_train)\n",
    "x_test = bow_nb.transform(x_test)\n",
    "print(x_train.shape , x_test.shape)"
   ]
  },
  {
   "cell_type": "code",
   "execution_count": 30,
   "metadata": {},
   "outputs": [
    {
     "name": "stdout",
     "output_type": "stream",
     "text": [
      "The optimal value of alpha is 7.0\n"
     ]
    },
    {
     "data": {
      "image/png": "[encoded data removed]",
      "text/plain": [
       "<Figure size 432x288 with 1 Axes>"
      ]
     },
     "metadata": {
      "needs_background": "light"
     },
     "output_type": "display_data"
    }
   ],
   "source": [
    "optimal_alpha_bow = naive_bayes(x_train , y_train)"
   ]
  },
  {
   "cell_type": "code",
   "execution_count": 31,
   "metadata": {},
   "outputs": [],
   "source": [
    "nb_optimal = MultinomialNB(alpha = optimal_alpha_bow)\n",
    "nb_optimal.fit(x_train , y_train)\n",
    "pred = nb_optimal.predict(x_test)"
   ]
  },
  {
   "cell_type": "code",
   "execution_count": 33,
   "metadata": {},
   "outputs": [
    {
     "data": {
      "text/plain": [
       "array([[ 0.,  0.,  0., ...,  0.,  1.,  1.],\n",
       "       [15.,  1.,  1., ...,  1.,  0.,  0.]])"
      ]
     },
     "execution_count": 33,
     "metadata": {},
     "output_type": "execute_result"
    }
   ],
   "source": [
    "feat_count = nb_optimal.feature_count_\n",
    "feat_count.shape\n",
    "feat_count"
   ]
  },
  {
   "cell_type": "code",
   "execution_count": 34,
   "metadata": {},
   "outputs": [
    {
     "data": {
      "text/plain": [
       "array([[-12.52475233, -12.52475233, -12.52475233, ..., -12.52475233,\n",
       "        -12.39122093, -12.39122093],\n",
       "       [-11.32179247, -12.33339339, -12.33339339, ..., -12.33339339,\n",
       "        -12.46692478, -12.46692478]])"
      ]
     },
     "execution_count": 34,
     "metadata": {},
     "output_type": "execute_result"
    }
   ],
   "source": [
    "log_prob = nb_optimal.feature_log_prob_\n",
    "log_prob"
   ]
  },
  {
   "cell_type": "code",
   "execution_count": 42,
   "metadata": {},
   "outputs": [
    {
     "name": "stdout",
     "output_type": "stream",
     "text": [
      "         aaa  aaaaaaaaaaaaaaaaaaaaaaaaaaaaaaaaaaaaaaaaaaaaseri  aaaaaaahhhhhh  \\\n",
      "0 -12.524752                                        -12.524752     -12.524752   \n",
      "1 -11.321792                                        -12.333393     -12.333393   \n",
      "\n",
      "   aaaaaaarrrrrggghhh  aaaaaawwwwwwwwww  aaaaawher      aaaah  aaaahhhhhh  \\\n",
      "0          -12.391221        -12.524752 -12.391221 -12.524752  -12.391221   \n",
      "1          -12.466925        -12.333393 -12.466925 -12.333393  -12.466925   \n",
      "\n",
      "      aaaand       aaah  ...    zupreem     zurich   zweiback     zyliss  \\\n",
      "0 -12.524752 -12.524752  ... -12.391221 -12.524752 -12.391221 -12.391221   \n",
      "1 -12.333393 -12.215610  ... -12.215610 -12.333393 -12.466925 -12.466925   \n",
      "\n",
      "     zylitol    zylitor        zym        zzz    zzzzzzz      çelem  \n",
      "0 -12.168077 -12.391221 -12.524752 -12.524752 -12.391221 -12.391221  \n",
      "1 -12.466925 -12.466925 -12.110250 -12.333393 -12.466925 -12.466925  \n",
      "\n",
      "[2 rows x 70909 columns]\n"
     ]
    },
    {
     "data": {
      "text/html": [
       "<div>\n",
       "<style scoped>\n",
       "    .dataframe tbody tr th:only-of-type {\n",
       "        vertical-align: middle;\n",
       "    }\n",
       "\n",
       "    .dataframe tbody tr th {\n",
       "        vertical-align: top;\n",
       "    }\n",
       "\n",
       "    .dataframe thead th {\n",
       "        text-align: right;\n",
       "    }\n",
       "</style>\n",
       "<table border=\"1\" class=\"dataframe\">\n",
       "  <thead>\n",
       "    <tr style=\"text-align: right;\">\n",
       "      <th></th>\n",
       "      <th>0</th>\n",
       "      <th>1</th>\n",
       "    </tr>\n",
       "  </thead>\n",
       "  <tbody>\n",
       "    <tr>\n",
       "      <td>aaa</td>\n",
       "      <td>-12.524752</td>\n",
       "      <td>-11.321792</td>\n",
       "    </tr>\n",
       "    <tr>\n",
       "      <td>aaaaaaaaaaaaaaaaaaaaaaaaaaaaaaaaaaaaaaaaaaaaseri</td>\n",
       "      <td>-12.524752</td>\n",
       "      <td>-12.333393</td>\n",
       "    </tr>\n",
       "    <tr>\n",
       "      <td>aaaaaaahhhhhh</td>\n",
       "      <td>-12.524752</td>\n",
       "      <td>-12.333393</td>\n",
       "    </tr>\n",
       "    <tr>\n",
       "      <td>aaaaaaarrrrrggghhh</td>\n",
       "      <td>-12.391221</td>\n",
       "      <td>-12.466925</td>\n",
       "    </tr>\n",
       "    <tr>\n",
       "      <td>aaaaaawwwwwwwwww</td>\n",
       "      <td>-12.524752</td>\n",
       "      <td>-12.333393</td>\n",
       "    </tr>\n",
       "  </tbody>\n",
       "</table>\n",
       "</div>"
      ],
      "text/plain": [
       "                                                          0          1\n",
       "aaa                                              -12.524752 -11.321792\n",
       "aaaaaaaaaaaaaaaaaaaaaaaaaaaaaaaaaaaaaaaaaaaaseri -12.524752 -12.333393\n",
       "aaaaaaahhhhhh                                    -12.524752 -12.333393\n",
       "aaaaaaarrrrrggghhh                               -12.391221 -12.466925\n",
       "aaaaaawwwwwwwwww                                 -12.524752 -12.333393"
      ]
     },
     "execution_count": 42,
     "metadata": {},
     "output_type": "execute_result"
    }
   ],
   "source": [
    "feature_prob = pd.DataFrame(log_prob , columns = bow_nb.get_feature_names())\n",
    "print(feature_prob.head())\n",
    "feature_prob_tr = feature_prob.T\n",
    "feature_prob_tr.shape\n",
    "feature_prob_tr.head()"
   ]
  },
  {
   "cell_type": "code",
   "execution_count": 43,
   "metadata": {},
   "outputs": [
    {
     "name": "stdout",
     "output_type": "stream",
     "text": [
      "Top 10 negative feature are :- \n",
      " aaa             -12.524752\n",
      "rightad         -12.524752\n",
      "rightamazon     -12.524752\n",
      "flakesplus      -12.524752\n",
      "flakeskellogg   -12.524752\n",
      "flakesin        -12.524752\n",
      "flakescorn      -12.524752\n",
      "flakescamu      -12.524752\n",
      "flakesalmost    -12.524752\n",
      "rightbtw        -12.524752\n",
      "Name: 0, dtype: float64\n",
      "Top 10 positive feature are :- \n",
      " linzer         -12.466925\n",
      "marudaizu      -12.466925\n",
      "maruman        -12.466925\n",
      "marutomo       -12.466925\n",
      "marvelousbut   -12.466925\n",
      "marxist        -12.466925\n",
      "maryheinz      -12.466925\n",
      "maryim         -12.466925\n",
      "maryjan        -12.466925\n",
      "marystextur    -12.466925\n",
      "Name: 1, dtype: float64\n"
     ]
    }
   ],
   "source": [
    "print('Top 10 negative feature are :- \\n', feature_prob_tr[0].sort_values(ascending = True)[:10])\n",
    "print('Top 10 positive feature are :- \\n', feature_prob_tr[1].sort_values(ascending = True)[:10])"
   ]
  },
  {
   "cell_type": "code",
   "execution_count": 45,
   "metadata": {},
   "outputs": [
    {
     "name": "stdout",
     "output_type": "stream",
     "text": [
      "Training Accuracy :-  0.8705142857142857\n",
      "Training Error :-  0.12948571428571432\n"
     ]
    }
   ],
   "source": [
    "train_acc = nb_optimal.score(x_train , y_train)\n",
    "print('Training Accuracy :- ' , train_acc)\n",
    "train_error = 1 - train_acc\n",
    "print('Training Error :- ', train_error) "
   ]
  },
  {
   "cell_type": "code",
   "execution_count": 46,
   "metadata": {},
   "outputs": [
    {
     "name": "stdout",
     "output_type": "stream",
     "text": [
      "The accuracy score for alpha = 7.0 is 85.41666666666666\n"
     ]
    }
   ],
   "source": [
    "accuracy_bow = accuracy_score(y_test , pred) * 100\n",
    "print('The accuracy score for alpha = {} is {}'.format(optimal_alpha_bow , accuracy_bow))"
   ]
  },
  {
   "cell_type": "code",
   "execution_count": 47,
   "metadata": {},
   "outputs": [
    {
     "data": {
      "text/plain": [
       "array([[12978,  2008],\n",
       "       [ 2367, 12647]], dtype=int64)"
      ]
     },
     "execution_count": 47,
     "metadata": {},
     "output_type": "execute_result"
    }
   ],
   "source": [
    "from sklearn.metrics import confusion_matrix\n",
    "cm = confusion_matrix(y_test, pred)\n",
    "cm"
   ]
  },
  {
   "cell_type": "code",
   "execution_count": 51,
   "metadata": {},
   "outputs": [
    {
     "data": {
      "image/png": "[encoded data removed]",
      "text/plain": [
       "<Figure size 432x288 with 2 Axes>"
      ]
     },
     "metadata": {
      "needs_background": "light"
     },
     "output_type": "display_data"
    }
   ],
   "source": [
    "labels = ['negative' , 'positive']\n",
    "df_cm = pd.DataFrame(cm , index = labels , columns = labels)\n",
    "sns.heatmap(df_cm , annot = True , fmt = 'd')\n",
    "plt.xlabel('Predicted Values')\n",
    "plt.ylabel('Actual Values')\n",
    "plt.title('Confusion Matrix')\n",
    "plt.show()"
   ]
  },
  {
   "cell_type": "code",
   "execution_count": 49,
   "metadata": {},
   "outputs": [
    {
     "name": "stdout",
     "output_type": "stream",
     "text": [
      "              precision    recall  f1-score   support\n",
      "\n",
      "    negative       0.85      0.87      0.86     14986\n",
      "    positive       0.86      0.84      0.85     15014\n",
      "\n",
      "    accuracy                           0.85     30000\n",
      "   macro avg       0.85      0.85      0.85     30000\n",
      "weighted avg       0.85      0.85      0.85     30000\n",
      "\n"
     ]
    }
   ],
   "source": [
    "from sklearn.metrics import classification_report\n",
    "print(classification_report(y_test, pred))"
   ]
  },
  {
   "cell_type": "code",
   "execution_count": 52,
   "metadata": {},
   "outputs": [],
   "source": [
    "x = X['Cleaned Text']\n",
    "y = X['Score']"
   ]
  },
  {
   "cell_type": "code",
   "execution_count": 54,
   "metadata": {},
   "outputs": [],
   "source": [
    "x_train , x_test , y_train , y_test = train_test_split(x , y , test_size = 0.3 , random_state = 42)"
   ]
  },
  {
   "cell_type": "code",
   "execution_count": 55,
   "metadata": {},
   "outputs": [],
   "source": [
    "tf_idf_nb = TfidfVectorizer(ngram_range = (1,2))\n",
    "x_train = tf_idf_nb.fit_transform(x_train)\n",
    "x_test = tf_idf_nb.transform(x_test)"
   ]
  },
  {
   "cell_type": "code",
   "execution_count": 56,
   "metadata": {},
   "outputs": [
    {
     "name": "stdout",
     "output_type": "stream",
     "text": [
      "The optimal value of alpha is 1.0\n"
     ]
    },
    {
     "data": {
      "image/png": "[encoded data removed]",
      "text/plain": [
       "<Figure size 432x288 with 1 Axes>"
      ]
     },
     "metadata": {
      "needs_background": "light"
     },
     "output_type": "display_data"
    }
   ],
   "source": [
    "optimal_alpha_tfidf = naive_bayes(x_train , y_train)"
   ]
  },
  {
   "cell_type": "code",
   "execution_count": 57,
   "metadata": {},
   "outputs": [],
   "source": [
    "tfidf_nb_optimal = MultinomialNB(alpha = optimal_alpha_tfidf)\n",
    "tfidf_nb_optimal.fit(x_train , y_train)\n",
    "pred = tfidf_nb_optimal.predict(x_test)"
   ]
  },
  {
   "cell_type": "code",
   "execution_count": 59,
   "metadata": {},
   "outputs": [],
   "source": [
    "log_prob = tfidf_nb_optimal.feature_log_prob_"
   ]
  },
  {
   "cell_type": "code",
   "execution_count": 62,
   "metadata": {},
   "outputs": [
    {
     "name": "stdout",
     "output_type": "stream",
     "text": [
      "Top 10 negative features are :-\n",
      " zzz               -14.144376\n",
      "satin bag         -14.144376\n",
      "satin energi      -14.144376\n",
      "satin smooth      -14.144376\n",
      "satisf            -14.144376\n",
      "satisf buy        -14.144376\n",
      "fourth subsequ    -14.144376\n",
      "satisf without    -14.144376\n",
      "satisfact abl     -14.144376\n",
      "satisfact admit   -14.144376\n",
      "Name: 0, dtype: float64\n",
      "Top 10 positive features are :-\n",
      " aa             -14.136949\n",
      "lamb ear       -14.136949\n",
      "lamb face      -14.136949\n",
      "tree perhap    -14.136949\n",
      "tree pay       -14.136949\n",
      "lamb friesth   -14.136949\n",
      "lamb heart     -14.136949\n",
      "lamb jerkey    -14.136949\n",
      "tree perk      -14.136949\n",
      "lamb label     -14.136949\n",
      "Name: 1, dtype: float64\n"
     ]
    }
   ],
   "source": [
    "log_prob_df = pd.DataFrame(log_prob , columns = tf_idf_nb.get_feature_names())\n",
    "log_prob_df_tr = log_prob_df.T \n",
    "print('Top 10 negative features are :-\\n' , log_prob_df_tr[0].sort_values(ascending = True)[:10])\n",
    "print('Top 10 positive features are :-\\n' , log_prob_df_tr[1].sort_values(ascending = True)[:10])"
   ]
  },
  {
   "cell_type": "code",
   "execution_count": 63,
   "metadata": {},
   "outputs": [
    {
     "name": "stdout",
     "output_type": "stream",
     "text": [
      "Training accuracy with alpha = 1.0 is 0.9696857142857143\n",
      "Training error with alpha = 1.0 is 0.030314285714285738\n"
     ]
    }
   ],
   "source": [
    "train_acc = tfidf_nb_optimal.score(x_train , y_train)\n",
    "print('Training accuracy with alpha = {} is {}'.format(optimal_alpha_tfidf , train_acc))\n",
    "train_error = 1 - train_acc\n",
    "print('Training error with alpha = {} is {}'.format(optimal_alpha_tfidf , train_error))"
   ]
  },
  {
   "cell_type": "code",
   "execution_count": 64,
   "metadata": {},
   "outputs": [
    {
     "name": "stdout",
     "output_type": "stream",
     "text": [
      "The accuracy with alpha = 1.0 is 88.58666666666667\n"
     ]
    }
   ],
   "source": [
    "accuracy_tfidf = accuracy_score(y_test , pred) * 100\n",
    "print('The accuracy with alpha = {} is {}'.format(optimal_alpha_tfidf , accuracy_tfidf))"
   ]
  },
  {
   "cell_type": "code",
   "execution_count": 65,
   "metadata": {},
   "outputs": [
    {
     "data": {
      "text/plain": [
       "array([[13303,  1700],\n",
       "       [ 1724, 13273]], dtype=int64)"
      ]
     },
     "execution_count": 65,
     "metadata": {},
     "output_type": "execute_result"
    }
   ],
   "source": [
    "cm = confusion_matrix(y_test , pred)\n",
    "cm"
   ]
  },
  {
   "cell_type": "code",
   "execution_count": 66,
   "metadata": {},
   "outputs": [
    {
     "data": {
      "image/png": "[encoded data removed]",
      "text/plain": [
       "<Figure size 432x288 with 2 Axes>"
      ]
     },
     "metadata": {
      "needs_background": "light"
     },
     "output_type": "display_data"
    }
   ],
   "source": [
    "labels = ['negative' , 'positive']\n",
    "df_cm = pd.DataFrame(cm , index = labels , columns = labels)\n",
    "sns.heatmap(df_cm , annot = True , fmt = 'd')\n",
    "plt.xlabel('Predicted Values')\n",
    "plt.ylabel('Actual Values')\n",
    "plt.title('Confusion Matrix')\n",
    "plt.show()"
   ]
  },
  {
   "cell_type": "code",
   "execution_count": 67,
   "metadata": {},
   "outputs": [
    {
     "name": "stdout",
     "output_type": "stream",
     "text": [
      "              precision    recall  f1-score   support\n",
      "\n",
      "    negative       0.89      0.89      0.89     15003\n",
      "    positive       0.89      0.89      0.89     14997\n",
      "\n",
      "    accuracy                           0.89     30000\n",
      "   macro avg       0.89      0.89      0.89     30000\n",
      "weighted avg       0.89      0.89      0.89     30000\n",
      "\n"
     ]
    }
   ],
   "source": [
    "print(classification_report(y_test , pred))"
   ]
  },
  {
   "cell_type": "code",
   "execution_count": null,
   "metadata": {},
   "outputs": [],
   "source": []
  }
 ],
 "metadata": {
  "kernelspec": {
   "display_name": "Python 3",
   "language": "python",
   "name": "python3"
  },
  "language_info": {
   "codemirror_mode": {
    "name": "ipython",
    "version": 3
   },
   "file_extension": ".py",
   "mimetype": "text/x-python",
   "name": "python",
   "nbconvert_exporter": "python",
   "pygments_lexer": "ipython3",
   "version": "3.7.4"
  }
 },
 "nbformat": 4,
 "nbformat_minor": 2
}
