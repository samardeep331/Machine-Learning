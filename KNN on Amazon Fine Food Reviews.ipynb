{
 "cells": [
  {
   "cell_type": "markdown",
   "metadata": {},
   "source": [
    "## Amazon Fine Food Reviews\n",
    "In this project, we have a dataset of size 568K * 10. The 10 features are as follows:\n",
    "1. Id\n",
    "2. ProductId\n",
    "3. UserId\n",
    "4. ProfileName\n",
    "5. HelpfulnessNumerator\n",
    "6. HelpfulnessDenominator\n",
    "7. Score\n",
    "8. Time\n",
    "9. Summary\n",
    "10. Text\n",
    "\n",
    "The objective of this project is to predict whether a review is positive or negative (Binary Clssification)."
   ]
  },
  {
   "cell_type": "code",
   "execution_count": null,
   "metadata": {},
   "outputs": [],
   "source": [
    "import pandas as pd\n",
    "import numpy as np\n",
    "import sqlite3\n",
    "import nltk\n",
    "import string\n",
    "import matplotlib.pyplot as plt\n",
    "import seaborn as sns\n",
    "from sklearn.feature_extraction.text import CountVectorizer\n",
    "from sklearn.feature_extraction.text import TfidfVectorizer"
   ]
  },
  {
   "cell_type": "code",
   "execution_count": 3,
   "metadata": {},
   "outputs": [
    {
     "name": "stdout",
     "output_type": "stream",
     "text": [
      "   Id   ProductId          UserId                      ProfileName  \\\n",
      "0   1  B001E4KFG0  A3SGXH7AUHU8GW                       delmartian   \n",
      "1   2  B00813GRG4  A1D87F6ZCVE5NK                           dll pa   \n",
      "2   3  B000LQOCH0   ABXLMWJIXXAIN  Natalia Corres \"Natalia Corres\"   \n",
      "3   4  B000UA0QIQ  A395BORC6FGVXV                             Karl   \n",
      "4   5  B006K2ZZ7K  A1UQRSCLF8GW1T    Michael D. Bigham \"M. Wassir\"   \n",
      "\n",
      "   HelpfulnessNumerator  HelpfulnessDenominator  Score        Time  \\\n",
      "0                     1                       1      5  1303862400   \n",
      "1                     0                       0      1  1346976000   \n",
      "2                     1                       1      4  1219017600   \n",
      "3                     3                       3      2  1307923200   \n",
      "4                     0                       0      5  1350777600   \n",
      "\n",
      "                 Summary                                               Text  \n",
      "0  Good Quality Dog Food  I have bought several of the Vitality canned d...  \n",
      "1      Not as Advertised  Product arrived labeled as Jumbo Salted Peanut...  \n",
      "2  \"Delight\" says it all  This is a confection that has been around a fe...  \n",
      "3         Cough Medicine  If you are looking for the secret ingredient i...  \n",
      "4            Great taffy  Great taffy at a great price.  There was a wid...  \n"
     ]
    }
   ],
   "source": [
    "con = sqlite3.connect(\"D:/[FCO] AppliedAICourse - Applied Machine Learning Course/1.0 CSV files/Amazon fine food reviews/database.sqlite\")\n",
    "\n",
    "#Score = 1 or 2 means review would be negative and Score = 3 or 5 means review would be positive. Hence, Score = 3 is neglected. \n",
    "data = pd.read_sql_query(\"\"\"\n",
    "       SELECT * from Reviews\n",
    "       where Score != 3\"\"\" , con)\n",
    "\n",
    "print(data.head())"
   ]
  },
  {
   "cell_type": "code",
   "execution_count": 4,
   "metadata": {},
   "outputs": [],
   "source": [
    "def partition(x):\n",
    "    if x > 3:\n",
    "        return 'positive'\n",
    "    else:\n",
    "        return 'negative'\n",
    "\n",
    "actualScore = data['Score']\n",
    "positiveNegative = actualScore.map(partition)\n",
    "data['Score'] = positiveNegative"
   ]
  },
  {
   "cell_type": "code",
   "execution_count": 4,
   "metadata": {},
   "outputs": [
    {
     "name": "stdout",
     "output_type": "stream",
     "text": [
      "   Id   ProductId          UserId                      ProfileName  \\\n",
      "0   1  B001E4KFG0  A3SGXH7AUHU8GW                       delmartian   \n",
      "1   2  B00813GRG4  A1D87F6ZCVE5NK                           dll pa   \n",
      "2   3  B000LQOCH0   ABXLMWJIXXAIN  Natalia Corres \"Natalia Corres\"   \n",
      "3   4  B000UA0QIQ  A395BORC6FGVXV                             Karl   \n",
      "4   5  B006K2ZZ7K  A1UQRSCLF8GW1T    Michael D. Bigham \"M. Wassir\"   \n",
      "\n",
      "   HelpfulnessNumerator  HelpfulnessDenominator     Score        Time  \\\n",
      "0                     1                       1  positive  1303862400   \n",
      "1                     0                       0  negative  1346976000   \n",
      "2                     1                       1  positive  1219017600   \n",
      "3                     3                       3  negative  1307923200   \n",
      "4                     0                       0  positive  1350777600   \n",
      "\n",
      "                 Summary                                               Text  \n",
      "0  Good Quality Dog Food  I have bought several of the Vitality canned d...  \n",
      "1      Not as Advertised  Product arrived labeled as Jumbo Salted Peanut...  \n",
      "2  \"Delight\" says it all  This is a confection that has been around a fe...  \n",
      "3         Cough Medicine  If you are looking for the secret ingredient i...  \n",
      "4            Great taffy  Great taffy at a great price.  There was a wid...  \n",
      "(525814, 10)\n"
     ]
    }
   ],
   "source": [
    "print(data.head())\n",
    "print(data.shape)"
   ]
  },
  {
   "cell_type": "code",
   "execution_count": 5,
   "metadata": {},
   "outputs": [
    {
     "data": {
      "text/html": [
       "<div>\n",
       "<style scoped>\n",
       "    .dataframe tbody tr th:only-of-type {\n",
       "        vertical-align: middle;\n",
       "    }\n",
       "\n",
       "    .dataframe tbody tr th {\n",
       "        vertical-align: top;\n",
       "    }\n",
       "\n",
       "    .dataframe thead th {\n",
       "        text-align: right;\n",
       "    }\n",
       "</style>\n",
       "<table border=\"1\" class=\"dataframe\">\n",
       "  <thead>\n",
       "    <tr style=\"text-align: right;\">\n",
       "      <th></th>\n",
       "      <th>Id</th>\n",
       "      <th>ProductId</th>\n",
       "      <th>UserId</th>\n",
       "      <th>ProfileName</th>\n",
       "      <th>HelpfulnessNumerator</th>\n",
       "      <th>HelpfulnessDenominator</th>\n",
       "      <th>Score</th>\n",
       "      <th>Time</th>\n",
       "      <th>Summary</th>\n",
       "      <th>Text</th>\n",
       "    </tr>\n",
       "  </thead>\n",
       "  <tbody>\n",
       "    <tr>\n",
       "      <td>0</td>\n",
       "      <td>78445</td>\n",
       "      <td>B000HDL1RQ</td>\n",
       "      <td>AR5J8UI46CURR</td>\n",
       "      <td>Geetha Krishnan</td>\n",
       "      <td>2</td>\n",
       "      <td>2</td>\n",
       "      <td>5</td>\n",
       "      <td>1199577600</td>\n",
       "      <td>LOACKER QUADRATINI VANILLA WAFERS</td>\n",
       "      <td>DELICIOUS WAFERS. I FIND THAT EUROPEAN WAFERS ...</td>\n",
       "    </tr>\n",
       "    <tr>\n",
       "      <td>1</td>\n",
       "      <td>138317</td>\n",
       "      <td>B000HDOPYC</td>\n",
       "      <td>AR5J8UI46CURR</td>\n",
       "      <td>Geetha Krishnan</td>\n",
       "      <td>2</td>\n",
       "      <td>2</td>\n",
       "      <td>5</td>\n",
       "      <td>1199577600</td>\n",
       "      <td>LOACKER QUADRATINI VANILLA WAFERS</td>\n",
       "      <td>DELICIOUS WAFERS. I FIND THAT EUROPEAN WAFERS ...</td>\n",
       "    </tr>\n",
       "    <tr>\n",
       "      <td>2</td>\n",
       "      <td>138277</td>\n",
       "      <td>B000HDOPYM</td>\n",
       "      <td>AR5J8UI46CURR</td>\n",
       "      <td>Geetha Krishnan</td>\n",
       "      <td>2</td>\n",
       "      <td>2</td>\n",
       "      <td>5</td>\n",
       "      <td>1199577600</td>\n",
       "      <td>LOACKER QUADRATINI VANILLA WAFERS</td>\n",
       "      <td>DELICIOUS WAFERS. I FIND THAT EUROPEAN WAFERS ...</td>\n",
       "    </tr>\n",
       "    <tr>\n",
       "      <td>3</td>\n",
       "      <td>73791</td>\n",
       "      <td>B000HDOPZG</td>\n",
       "      <td>AR5J8UI46CURR</td>\n",
       "      <td>Geetha Krishnan</td>\n",
       "      <td>2</td>\n",
       "      <td>2</td>\n",
       "      <td>5</td>\n",
       "      <td>1199577600</td>\n",
       "      <td>LOACKER QUADRATINI VANILLA WAFERS</td>\n",
       "      <td>DELICIOUS WAFERS. I FIND THAT EUROPEAN WAFERS ...</td>\n",
       "    </tr>\n",
       "    <tr>\n",
       "      <td>4</td>\n",
       "      <td>155049</td>\n",
       "      <td>B000PAQ75C</td>\n",
       "      <td>AR5J8UI46CURR</td>\n",
       "      <td>Geetha Krishnan</td>\n",
       "      <td>2</td>\n",
       "      <td>2</td>\n",
       "      <td>5</td>\n",
       "      <td>1199577600</td>\n",
       "      <td>LOACKER QUADRATINI VANILLA WAFERS</td>\n",
       "      <td>DELICIOUS WAFERS. I FIND THAT EUROPEAN WAFERS ...</td>\n",
       "    </tr>\n",
       "  </tbody>\n",
       "</table>\n",
       "</div>"
      ],
      "text/plain": [
       "       Id   ProductId         UserId      ProfileName  HelpfulnessNumerator  \\\n",
       "0   78445  B000HDL1RQ  AR5J8UI46CURR  Geetha Krishnan                     2   \n",
       "1  138317  B000HDOPYC  AR5J8UI46CURR  Geetha Krishnan                     2   \n",
       "2  138277  B000HDOPYM  AR5J8UI46CURR  Geetha Krishnan                     2   \n",
       "3   73791  B000HDOPZG  AR5J8UI46CURR  Geetha Krishnan                     2   \n",
       "4  155049  B000PAQ75C  AR5J8UI46CURR  Geetha Krishnan                     2   \n",
       "\n",
       "   HelpfulnessDenominator  Score        Time  \\\n",
       "0                       2      5  1199577600   \n",
       "1                       2      5  1199577600   \n",
       "2                       2      5  1199577600   \n",
       "3                       2      5  1199577600   \n",
       "4                       2      5  1199577600   \n",
       "\n",
       "                             Summary  \\\n",
       "0  LOACKER QUADRATINI VANILLA WAFERS   \n",
       "1  LOACKER QUADRATINI VANILLA WAFERS   \n",
       "2  LOACKER QUADRATINI VANILLA WAFERS   \n",
       "3  LOACKER QUADRATINI VANILLA WAFERS   \n",
       "4  LOACKER QUADRATINI VANILLA WAFERS   \n",
       "\n",
       "                                                Text  \n",
       "0  DELICIOUS WAFERS. I FIND THAT EUROPEAN WAFERS ...  \n",
       "1  DELICIOUS WAFERS. I FIND THAT EUROPEAN WAFERS ...  \n",
       "2  DELICIOUS WAFERS. I FIND THAT EUROPEAN WAFERS ...  \n",
       "3  DELICIOUS WAFERS. I FIND THAT EUROPEAN WAFERS ...  \n",
       "4  DELICIOUS WAFERS. I FIND THAT EUROPEAN WAFERS ...  "
      ]
     },
     "execution_count": 5,
     "metadata": {},
     "output_type": "execute_result"
    }
   ],
   "source": [
    "display = pd.read_sql_query(\"\"\"\n",
    "        SELECT * FROM Reviews \n",
    "        WHERE Score != 3 AND UserId = 'AR5J8UI46CURR'\n",
    "        ORDER BY ProductId\n",
    "        \"\"\" , con)\n",
    "display"
   ]
  },
  {
   "cell_type": "markdown",
   "metadata": {},
   "source": [
    "Observations: 1) As in above table, UserId, ProfileName, HelpfulnessNumerator, HelpfulnessDenominator.Score,Time, Summary and Text shows same content 2) Also for all 5 product, shows same time. 3) Here we observed that, product is same, only the flavour is different 4) so we will remove this duplication and keep any one product which all these features so we removing duplicates."
   ]
  },
  {
   "cell_type": "code",
   "execution_count": 6,
   "metadata": {},
   "outputs": [
    {
     "data": {
      "text/plain": [
       "(364173, 10)"
      ]
     },
     "execution_count": 6,
     "metadata": {},
     "output_type": "execute_result"
    }
   ],
   "source": [
    "#Sorting data according to ProductId in ascending order\n",
    "sorted_data = data.sort_values('ProductId' , axis = 0 , inplace = False , ascending = True)\n",
    "final = sorted_data.drop_duplicates(subset = {'UserId' , 'ProfileName' , 'Time' , 'Text'} , keep = 'first' , inplace = False)\n",
    "final.shape"
   ]
  },
  {
   "cell_type": "code",
   "execution_count": 7,
   "metadata": {},
   "outputs": [
    {
     "data": {
      "text/plain": [
       "(364171, 10)"
      ]
     },
     "execution_count": 7,
     "metadata": {},
     "output_type": "execute_result"
    }
   ],
   "source": [
    "#Keeping only those data points where HelpfulnessNumerator is greater than or equal to HelpfulnessDenominator\n",
    "#as HelpfulnessNumerator cannot be greater than HelpfulnessDenominator\n",
    "final = final[final.HelpfulnessNumerator <= final.HelpfulnessDenominator]\n",
    "final.shape"
   ]
  },
  {
   "cell_type": "code",
   "execution_count": 8,
   "metadata": {},
   "outputs": [
    {
     "name": "stdout",
     "output_type": "stream",
     "text": [
      "69.25852107399194\n"
     ]
    }
   ],
   "source": [
    "print((final.Score.size / sorted_data.Score.size) * 100)"
   ]
  },
  {
   "cell_type": "code",
   "execution_count": 8,
   "metadata": {},
   "outputs": [],
   "source": [
    "import re\n",
    "from nltk.corpus import stopwords\n",
    "from nltk.stem import PorterStemmer\n",
    "from nltk.stem.wordnet import WordNetLemmatizer"
   ]
  },
  {
   "cell_type": "code",
   "execution_count": 9,
   "metadata": {},
   "outputs": [],
   "source": [
    "def cleanhtml(sentence):\n",
    "    cleanr = re.compile('<.*?>')\n",
    "    cleantext = re.sub(cleanr , '' , sentence)\n",
    "    return cleantext\n",
    "\n",
    "def clearpunc(sentence):\n",
    "    cleaned = re.sub(r'[? | ! | \\' | \" | #]' , r'' , sentence)\n",
    "    cleaned = re.sub(r'[. | , | ) | ( | \\ | / | : | ; | < | >]' , r'' , cleaned)\n",
    "    return cleaned"
   ]
  },
  {
   "cell_type": "code",
   "execution_count": 10,
   "metadata": {},
   "outputs": [
    {
     "name": "stdout",
     "output_type": "stream",
     "text": [
      "{'did', 'ours', 'and', 'some', 'my', 'him', 't', 'until', 'such', \"it's\", 'to', \"hadn't\", 'by', 'he', 'being', 'has', \"haven't\", \"she's\", 'over', 'during', 'at', 'most', 'will', 'about', 'now', 'but', 'same', 'your', 'his', 'more', 'didn', 'wouldn', 'again', 'having', \"aren't\", \"mustn't\", \"weren't\", 've', \"that'll\", 'we', 'once', 'through', \"wasn't\", 'both', 'no', 'does', 'in', 'own', 'then', 'be', 'who', 'ma', \"you've\", 'do', 'hadn', 'yours', 'than', 'only', 'm', 'shan', 'how', 'whom', 'ain', 'nor', 'is', 'so', 'here', 'are', 'very', 'hasn', 'that', 'she', 'aren', 'd', 'further', 'this', 'mightn', 'not', 'should', 'had', \"needn't\", 'above', 'they', 'why', 'on', 'off', \"isn't\", \"you'll\", 'y', 'won', 'a', 'shouldn', \"shan't\", 'with', 'doing', 'from', 'its', \"mightn't\", 'haven', 'there', 'weren', \"don't\", 'because', 'as', 'after', 'few', 'each', 're', 'i', 'those', 'itself', 'when', 'before', 'hers', 'below', 'theirs', 'all', 'down', 'an', 'out', 'against', 'while', 'what', 'been', 'isn', \"shouldn't\", 'am', 'which', 'was', 'ourselves', 'herself', 'these', 'you', 'if', 'himself', \"hasn't\", 'too', 'were', 'needn', \"wouldn't\", 'myself', 'or', \"should've\", 'doesn', 'o', 'the', 'their', 'into', 'under', \"you're\", 'our', 'yourself', 'of', 'where', \"couldn't\", \"doesn't\", 'me', 'her', 'them', 'any', 'it', 'between', 'other', 's', \"won't\", 'don', 'up', \"you'd\", 'for', 'can', 'have', 'wasn', 'll', 'couldn', 'themselves', \"didn't\", 'mustn', 'yourselves', 'just'}\n"
     ]
    }
   ],
   "source": [
    "stop = set(stopwords.words('english'))\n",
    "sno = nltk.stem.SnowballStemmer('english')\n",
    "print(stop)"
   ]
  },
  {
   "cell_type": "code",
   "execution_count": 11,
   "metadata": {},
   "outputs": [],
   "source": [
    "#Code for implementing step-by-step the checks mentioned in the pre-processing phase\n",
    "# this code takes a while to run as it needs to run on 364k sentences.\n",
    "i = 0\n",
    "str1 = ' '\n",
    "finalString = []\n",
    "all_positive_words = []\n",
    "all_negative_words = []\n",
    "s = ''\n",
    "\n",
    "for sent in final['Text'].values:\n",
    "    filtered_sentence = []\n",
    "    sent = cleanhtml(sent)\n",
    "    for w in sent.split():\n",
    "        for cleanedwords in clearpunc(w).split():\n",
    "            if((cleanedwords.isalpha()) & (len(cleanedwords) > 2)):\n",
    "                if(cleanedwords.lower() not in stop):\n",
    "                    s = (sno.stem(cleanedwords.lower())).encode('utf8')\n",
    "                    filtered_sentence.append(s)\n",
    "                    \n",
    "                    if (final['Score'].values)[i] == 'positive':\n",
    "                        all_positive_words.append(s)\n",
    "                        \n",
    "                    if (final['Score'].values)[i] == 'negative':\n",
    "                        all_negative_words.append(s)\n",
    "                        \n",
    "                else:\n",
    "                    continue\n",
    "            else:\n",
    "                continue\n",
    "                \n",
    "    str1 = b\" \".join(filtered_sentence)\n",
    "    \n",
    "    finalString.append(str1)\n",
    "    i += 1"
   ]
  },
  {
   "cell_type": "code",
   "execution_count": null,
   "metadata": {},
   "outputs": [],
   "source": [
    "print(finalString)"
   ]
  },
  {
   "cell_type": "code",
   "execution_count": 12,
   "metadata": {},
   "outputs": [],
   "source": [
    "# Adding a column of CleanedText which shows data after preprocessing the reviews \n",
    "final['Cleaned Text'] = finalString"
   ]
  },
  {
   "cell_type": "code",
   "execution_count": 13,
   "metadata": {},
   "outputs": [],
   "source": [
    "X1 = final[final['Score'] == 'positive'].sample(n = 10000 , random_state = 0)\n",
    "X2 = final[final['Score'] == 'negative'].sample(n = 10000 , random_state = 0) \n",
    "X = pd.concat([X1 , X2])"
   ]
  },
  {
   "cell_type": "code",
   "execution_count": 14,
   "metadata": {},
   "outputs": [],
   "source": [
    "#Time-Based Splitting\n",
    "X['Time'] = pd.to_datetime(X['Time'] , origin = 'unix' , unit = 's')\n",
    "X = X.sort_values('Time')\n",
    "sampled_points = X['Cleaned Text']\n",
    "Y = X['Score']"
   ]
  },
  {
   "cell_type": "code",
   "execution_count": 15,
   "metadata": {},
   "outputs": [],
   "source": [
    "from sklearn.model_selection import train_test_split\n",
    "from sklearn.neighbors import KNeighborsClassifier\n",
    "from sklearn.model_selection import cross_val_score\n",
    "from collections import Counter\n",
    "from sklearn.metrics import accuracy_score\n",
    "from sklearn import model_selection\n",
    "from sklearn.metrics import confusion_matrix"
   ]
  },
  {
   "cell_type": "code",
   "execution_count": 26,
   "metadata": {},
   "outputs": [],
   "source": [
    "# Function to compute optimal k value\n",
    "def k_classifier_brute(XTrain , YTrain):\n",
    "    neighbors = list(range(21 , 82 , 4))\n",
    "    cv_score = []\n",
    "    # 10 Fold Cross Validation for k\n",
    "    for i in neighbors:\n",
    "        neigh = KNeighborsClassifier(n_neighbors = i , algorithm = 'brute')\n",
    "        scores = cross_val_score(neigh , XTrain , YTrain , cv = 10 , scoring = 'accuracy')\n",
    "        cv_score.append(scores.mean())\n",
    "    MSE = [1 - x for x in cv_score] # Misclassification Error\n",
    "    optimal_k = neighbors[MSE.index(min(MSE))]\n",
    "    print('\\n Optimal number of neighbors = {}'.format(optimal_k))\n",
    "    print('\\n Misclassification Error for each k is {}'.format(np.round(MSE , 3)))\n",
    "    plt.plot(neighbors, MSE) # \n",
    "    plt.title(\"Number of neighbors and error\")\n",
    "    plt.xlabel(\"Number of neighbors\")\n",
    "    plt.ylabel(\"Misclassification error\")\n",
    "    plt.show()\n",
    "    return optimal_k"
   ]
  },
  {
   "cell_type": "code",
   "execution_count": 20,
   "metadata": {},
   "outputs": [],
   "source": [
    "#Splitting the data into Train and Test datasets\n",
    "XTrain, XTest, YTrain, YTest = train_test_split(sampled_points, Y, test_size = 0.3, random_state = 42) "
   ]
  },
  {
   "cell_type": "code",
   "execution_count": 21,
   "metadata": {},
   "outputs": [],
   "source": [
    "#Train Vectorizer\n",
    "bow = CountVectorizer()\n",
    "XTrain = bow.fit_transform(XTrain)\n",
    "\n",
    "#Test Vectorizer\n",
    "XTest = bow.transform(XTest)"
   ]
  },
  {
   "cell_type": "code",
   "execution_count": 27,
   "metadata": {},
   "outputs": [
    {
     "name": "stdout",
     "output_type": "stream",
     "text": [
      "\n",
      " Optimal number of neighbors = 25\n",
      "\n",
      " Misclassification Error for each k is [0.307 0.306 0.31  0.314 0.316 0.322 0.323 0.327 0.329 0.331 0.333 0.335\n",
      " 0.336 0.337 0.34  0.342]\n"
     ]
    },
    {
     "data": {
      "image/png": "[encoded data removed]",
      "text/plain": [
       "<Figure size 432x288 with 1 Axes>"
      ]
     },
     "metadata": {
      "needs_background": "light"
     },
     "output_type": "display_data"
    }
   ],
   "source": [
    "#To chose optial k using brute force algorithm\n",
    "optimal_k_bow = k_classifier_brute(XTrain , YTrain)"
   ]
  },
  {
   "cell_type": "code",
   "execution_count": 30,
   "metadata": {},
   "outputs": [],
   "source": [
    "# instantiate the KNN model with k = optimal k\n",
    "knn_optimal_for_bow = KNeighborsClassifier(n_neighbors = optimal_k_bow)\n",
    "\n",
    "# fitting the mode to training dataset\n",
    "knn_optimal_for_bow.fit(XTrain , YTrain)\n",
    "\n",
    "#Predicting the response\n",
    "pred = knn_optimal_for_bow.predict(XTest)"
   ]
  },
  {
   "cell_type": "code",
   "execution_count": 33,
   "metadata": {},
   "outputs": [
    {
     "name": "stdout",
     "output_type": "stream",
     "text": [
      "\n",
      " Train Accuracy is  0.7365\n",
      "\n",
      " Train Error  0.26349999999999996\n",
      "\n",
      " The accuracy score for k = 25 is 0.7001666666666667\n"
     ]
    }
   ],
   "source": [
    "#Accuracy on training data\n",
    "train_accuracy = knn_optimal_for_bow.score(XTrain , YTrain)\n",
    "print('\\n Train Accuracy is ' , train_accuracy)\n",
    "\n",
    "#Error on training data\n",
    "train_error = 1 - train_accuracy\n",
    "print('\\n Train Error ', train_error)\n",
    "\n",
    "#Evaluate accuracy on tet data\n",
    "accuracy = accuracy_score(YTest , pred)\n",
    "print('\\n The accuracy score for k = {} is {}'.format(optimal_k_bow,accuracy))"
   ]
  },
  {
   "cell_type": "code",
   "execution_count": 35,
   "metadata": {},
   "outputs": [
    {
     "data": {
      "image/png": "[encoded data removed]",
      "text/plain": [
       "<Figure size 432x288 with 2 Axes>"
      ]
     },
     "metadata": {
      "needs_background": "light"
     },
     "output_type": "display_data"
    }
   ],
   "source": [
    "#Confusion Matrix\n",
    "from sklearn.metrics import confusion_matrix\n",
    "cm = confusion_matrix(YTest , pred)\n",
    "labels = ['positive' , 'negative']\n",
    "df_cm = pd.DataFrame(cm , index = labels , columns = labels)\n",
    "\n",
    "#pPotting the Confusion Matrix to describe the performance of the classifier\n",
    "sns.heatmap(df_cm , annot = True , fmt = 'd')\n",
    "plt.title(\"Confusion Matrix\")\n",
    "plt.xlabel(\"Predicted Label\")\n",
    "plt.ylabel(\"Actual Label\")\n",
    "plt.show()"
   ]
  },
  {
   "cell_type": "code",
   "execution_count": 36,
   "metadata": {},
   "outputs": [
    {
     "name": "stdout",
     "output_type": "stream",
     "text": [
      "              precision    recall  f1-score   support\n",
      "\n",
      "    negative       0.79      0.55      0.65      3020\n",
      "    positive       0.65      0.86      0.74      2980\n",
      "\n",
      "    accuracy                           0.70      6000\n",
      "   macro avg       0.72      0.70      0.69      6000\n",
      "weighted avg       0.72      0.70      0.69      6000\n",
      "\n"
     ]
    }
   ],
   "source": [
    "# Main Classification Report\n",
    "from sklearn.metrics import classification_report\n",
    "print(classification_report(YTest , pred))"
   ]
  },
  {
   "cell_type": "markdown",
   "metadata": {},
   "source": [
    "Observations:\n",
    "1) From above figure(misclassification error vs optimal k), it is showing that classification error for each value of k, when k increases the error also increses.\n",
    "2) As I tested our model on unseen data(test data) the accuracy is 70.0167% when k = 25.\n"
   ]
  },
  {
   "cell_type": "markdown",
   "metadata": {},
   "source": [
    "# TF-IDF "
   ]
  },
  {
   "cell_type": "code",
   "execution_count": 37,
   "metadata": {},
   "outputs": [],
   "source": [
    "sampled_points = X['Cleaned Text']\n",
    "Y = X['Score']"
   ]
  },
  {
   "cell_type": "code",
   "execution_count": 38,
   "metadata": {},
   "outputs": [],
   "source": [
    "XTrain, XTest, YTrain, YTest = train_test_split(sampled_points, Y, test_size = 0.3, random_state = 42)"
   ]
  },
  {
   "cell_type": "code",
   "execution_count": 39,
   "metadata": {},
   "outputs": [],
   "source": [
    "#Converting training text data to its vectorizer\n",
    "tf_idf_vect = TfidfVectorizer(ngram_range = (1,2))\n",
    "XTrain = tf_idf_vect.fit_transform(XTrain)\n",
    "\n",
    "#Converting test test data to its vectorizer \n",
    "XTest = tf_idf_vect.transform(XTest)"
   ]
  },
  {
   "cell_type": "code",
   "execution_count": 40,
   "metadata": {},
   "outputs": [
    {
     "name": "stdout",
     "output_type": "stream",
     "text": [
      "\n",
      " Optimal number of neighbors = 81\n",
      "\n",
      " Misclassification Error for each k is [0.26  0.253 0.251 0.245 0.243 0.238 0.237 0.236 0.232 0.23  0.226 0.223\n",
      " 0.224 0.22  0.221 0.218]\n"
     ]
    },
    {
     "data": {
      "image/png": "[encoded data removed]",
      "text/plain": [
       "<Figure size 432x288 with 1 Axes>"
      ]
     },
     "metadata": {
      "needs_background": "light"
     },
     "output_type": "display_data"
    }
   ],
   "source": [
    "#selecting optimal k\n",
    "optimal_k_tf_idf = k_classifier_brute(XTrain , YTrain)"
   ]
  },
  {
   "cell_type": "code",
   "execution_count": 41,
   "metadata": {},
   "outputs": [],
   "source": [
    "# instantiate the KNN model with k = optimal k\n",
    "knn_optimal_for_tf_idf = KNeighborsClassifier(n_neighbors = optimal_k_tf_idf)\n",
    "\n",
    "# fitting the mode to training dataset\n",
    "knn_optimal_for_tf_idf.fit(XTrain , YTrain)\n",
    "\n",
    "# predicting the response\n",
    "pred = knn_optimal_for_tf_idf.predict(XTest)"
   ]
  },
  {
   "cell_type": "code",
   "execution_count": 42,
   "metadata": {},
   "outputs": [
    {
     "name": "stdout",
     "output_type": "stream",
     "text": [
      "\n",
      " Train Accuracy is  0.797\n",
      "\n",
      " Train Error  0.20299999999999996\n",
      "\n",
      " The accuracy score for k = 81 is 0.7873333333333333\n"
     ]
    }
   ],
   "source": [
    "#Accuracy on training data\n",
    "train_accuracy = knn_optimal_for_tf_idf.score(XTrain , YTrain)\n",
    "print('\\n Train Accuracy is ' , train_accuracy)\n",
    "\n",
    "#Error on training data\n",
    "train_error = 1 - train_accuracy\n",
    "print('\\n Train Error ', train_error)\n",
    "\n",
    "#Evaluting accuracy on test ddata\n",
    "accuracy = accuracy_score(YTest , pred)\n",
    "print('\\n The accuracy score for k = {} is {}'.format(optimal_k_tf_idf,accuracy))"
   ]
  },
  {
   "cell_type": "code",
   "execution_count": 43,
   "metadata": {},
   "outputs": [
    {
     "data": {
      "image/png": "[encoded data removed]",
      "text/plain": [
       "<Figure size 432x288 with 2 Axes>"
      ]
     },
     "metadata": {
      "needs_background": "light"
     },
     "output_type": "display_data"
    }
   ],
   "source": [
    "#plotting the confusion matrix to describe the performance of the classifier\n",
    "cm = confusion_matrix(YTest , pred)\n",
    "labels = ['positive' , 'negative']\n",
    "df_cm = pd.DataFrame(cm , index = labels , columns = labels)\n",
    "sns.heatmap(df_cm , annot = True , fmt = 'd')\n",
    "plt.title(\"Confusion Matrix\")\n",
    "plt.xlabel(\"Predicted Label\")\n",
    "plt.ylabel(\"Actual Label\")\n",
    "plt.show()"
   ]
  },
  {
   "cell_type": "code",
   "execution_count": 44,
   "metadata": {},
   "outputs": [
    {
     "name": "stdout",
     "output_type": "stream",
     "text": [
      "              precision    recall  f1-score   support\n",
      "\n",
      "    negative       0.82      0.74      0.78      3020\n",
      "    positive       0.76      0.83      0.80      2980\n",
      "\n",
      "    accuracy                           0.79      6000\n",
      "   macro avg       0.79      0.79      0.79      6000\n",
      "weighted avg       0.79      0.79      0.79      6000\n",
      "\n"
     ]
    }
   ],
   "source": [
    "print(classification_report(YTest , pred))"
   ]
  },
  {
   "cell_type": "markdown",
   "metadata": {},
   "source": [
    "Observations:\n",
    "1) Optimal k is 81 with tet accuracy = 78.74%\n",
    "2) From Confusion matrix, model predicted 3246 as negative & actual negative are 2980 and predicted 2754 as positive & actual positive are 3020 which is quite good.\n",
    "3) So we can say that, this model works well"
   ]
  }
 ],
 "metadata": {
  "kernelspec": {
   "display_name": "Python 3",
   "language": "python",
   "name": "python3"
  },
  "language_info": {
   "codemirror_mode": {
    "name": "ipython",
    "version": 3
   },
   "file_extension": ".py",
   "mimetype": "text/x-python",
   "name": "python",
   "nbconvert_exporter": "python",
   "pygments_lexer": "ipython3",
   "version": "3.7.4"
  }
 },
 "nbformat": 4,
 "nbformat_minor": 2
}
